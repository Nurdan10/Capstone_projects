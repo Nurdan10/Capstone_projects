version https://git-lfs.github.com/spec/v1
oid sha256:0a362a224298f8922fb3c5839fe28963d16193af817c78aadb6bde2bcea1d495
size 7527324
